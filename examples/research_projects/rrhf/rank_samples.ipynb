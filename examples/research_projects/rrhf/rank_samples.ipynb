{
 "cells": [
  {
   "cell_type": "markdown",
   "metadata": {},
   "source": [
    "## Example on how to score data samples for RRHF"
   ]
  },
  {
   "cell_type": "code",
   "execution_count": 1,
   "metadata": {},
   "outputs": [
    {
     "data": {
      "application/json": {
       "ascii": false,
       "bar_format": null,
       "colour": null,
       "elapsed": 0.0068781375885009766,
       "initial": 0,
       "n": 0,
       "ncols": null,
       "nrows": null,
       "postfix": null,
       "prefix": "Loading checkpoint shards",
       "rate": null,
       "total": 3,
       "unit": "it",
       "unit_divisor": 1000,
       "unit_scale": false
      },
      "application/vnd.jupyter.widget-view+json": {
       "model_id": "bcc422b42b8c4a69b4e1522c10f51db9",
       "version_major": 2,
       "version_minor": 0
      },
      "text/plain": [
       "Loading checkpoint shards:   0%|          | 0/3 [00:00<?, ?it/s]"
      ]
     },
     "metadata": {},
     "output_type": "display_data"
    }
   ],
   "source": [
    "import torch\n",
    "from transformers import AutoTokenizer, AutoModelForSequenceClassification\n",
    "from transformers.utils.import_utils import is_torch_bf16_gpu_available\n",
    "\n",
    "# reward model id\n",
    "model_id = \"reciprocate/dahoas-gptj-rm-static\"\n",
    "\n",
    "dtype = torch.bfloat16 if is_torch_bf16_gpu_available() else torch.float16\n",
    "reward_model = AutoModelForSequenceClassification.from_pretrained(model_id,device_map=\"auto\", torch_dtype=dtype)\n",
    "tokenizer = AutoTokenizer.from_pretrained(model_id)"
   ]
  },
  {
   "cell_type": "code",
   "execution_count": 2,
   "metadata": {},
   "outputs": [
    {
     "name": "stderr",
     "output_type": "stream",
     "text": [
      "Using /home/ubuntu/.cache/torch_extensions/py39_cu117 as PyTorch extensions root...\n",
      "Detected CUDA files, patching ldflags\n",
      "Emitting ninja build file /home/ubuntu/.cache/torch_extensions/py39_cu117/cuda_kernel/build.ninja...\n",
      "Building extension module cuda_kernel...\n",
      "Allowing ninja to set a default number of workers... (overridable by setting the environment variable MAX_JOBS=N)\n",
      "Failed to load CUDA kernels. Mra requires custom CUDA kernels. Please verify that compatible versions of PyTorch and CUDA Toolkit are installed: Error building extension 'cuda_kernel'\n",
      "Xformers is not installed correctly. If you want to use memory_efficient_attention to accelerate training use the following command to install Xformers\n",
      "pip install xformers.\n"
     ]
    },
    {
     "name": "stdout",
     "output_type": "stream",
     "text": [
      "[1/1] c++ cuda_kernel.cuda.o cuda_launch.cuda.o torch_extension.o -shared -L/opt/conda/envs/pytorch/lib/python3.9/site-packages/torch/lib -lc10 -lc10_cuda -ltorch_cpu -ltorch_cuda -ltorch -ltorch_python -L/opt/conda/envs/pytorch/lib64 -lcudart -o cuda_kernel.so\n",
      "\u001b[31mFAILED: \u001b[0mcuda_kernel.so \n",
      "c++ cuda_kernel.cuda.o cuda_launch.cuda.o torch_extension.o -shared -L/opt/conda/envs/pytorch/lib/python3.9/site-packages/torch/lib -lc10 -lc10_cuda -ltorch_cpu -ltorch_cuda -ltorch -ltorch_python -L/opt/conda/envs/pytorch/lib64 -lcudart -o cuda_kernel.so\n",
      "/usr/bin/ld: cannot find -lcudart\n",
      "collect2: error: ld returned 1 exit status\n",
      "ninja: build stopped: subcommand failed.\n"
     ]
    }
   ],
   "source": [
    "from transformers import pipeline \n",
    "\n",
    "clf = pipeline(\"text-classification\", model=reward_model,tokenizer=tokenizer)"
   ]
  },
  {
   "cell_type": "markdown",
   "metadata": {},
   "source": [
    "load hh dataset "
   ]
  },
  {
   "cell_type": "code",
   "execution_count": 6,
   "metadata": {},
   "outputs": [
    {
     "name": "stderr",
     "output_type": "stream",
     "text": [
      "Found cached dataset json (/home/ubuntu/.cache/huggingface/datasets/Anthropic___json/Anthropic--hh-rlhf-1cfce6f8a62eee84/0.0.0/e347ab1c932092252e717ff3f949105a4dd28b27e842dd53157d2f72e276c2e4)\n",
      "Loading cached processed dataset at /home/ubuntu/.cache/huggingface/datasets/Anthropic___json/Anthropic--hh-rlhf-1cfce6f8a62eee84/0.0.0/e347ab1c932092252e717ff3f949105a4dd28b27e842dd53157d2f72e276c2e4/cache-61d9a6b7f9a3b608.arrow\n"
     ]
    }
   ],
   "source": [
    "from typing import Dict\n",
    "from random import randrange \n",
    "from datasets import load_dataset, Dataset\n",
    "\n",
    "def extract_anthropic_prompt(prompt_and_response):\n",
    "    \"\"\"Extract the anthropic prompt from a prompt and response pair.\"\"\"\n",
    "    search_term = \"\\n\\nAssistant:\"\n",
    "    search_term_idx = prompt_and_response.rfind(search_term)\n",
    "    assert search_term_idx != -1, f\"Prompt and response does not contain '{search_term}'\"\n",
    "    return prompt_and_response[: search_term_idx + len(search_term)]\n",
    "  \n",
    "def get_hh(split: str,n_samples=None) -> Dataset:\n",
    "    \"\"\"Load the Anthropic Helpful-Harmless dataset from Hugging Face and convert it to the necessary format.\n",
    "\n",
    "    The dataset is converted to a dictionary with the following structure:\n",
    "    {\n",
    "        'prompt': List[str],\n",
    "        'chosen': List[str],\n",
    "        'rejected': List[str],\n",
    "    }\n",
    "\n",
    "    Prompts should be structured as follows:\n",
    "      \\n\\nHuman: <prompt>\\n\\nAssistant:\n",
    "    Multiple turns are allowed, but the prompt should always start with \\n\\nHuman: and end with \\n\\nAssistant:.\n",
    "    \"\"\"\n",
    "    dataset = load_dataset(\"Anthropic/hh-rlhf\", split=split)\n",
    "    if n_samples:\n",
    "        dataset = dataset.select(range(min(len(dataset), n_samples)))\n",
    "\n",
    "    def split_prompt_and_responses(sample) -> Dict[str, str]:\n",
    "        prompt = extract_anthropic_prompt(sample[\"chosen\"])\n",
    "        return {\n",
    "            \"prompt\": prompt,\n",
    "            \"chosen\": sample[\"chosen\"][len(prompt) :],\n",
    "            \"rejected\": sample[\"rejected\"][len(prompt) :],\n",
    "        }\n",
    "\n",
    "    return dataset.map(split_prompt_and_responses)\n",
    "\n",
    "\n",
    "dataset = get_hh(\"train\")\n",
    "\n"
   ]
  },
  {
   "cell_type": "markdown",
   "metadata": {},
   "source": [
    "score random example"
   ]
  },
  {
   "cell_type": "code",
   "execution_count": 7,
   "metadata": {},
   "outputs": [
    {
     "name": "stdout",
     "output_type": "stream",
     "text": [
      "Rejected sample\n",
      "0.2146914005279541\n",
      "Chosen sample\n",
      "0.9867772459983826\n"
     ]
    }
   ],
   "source": [
    "# get sample\n",
    "sample = dataset[randrange(len(dataset)-1)]\n",
    "\n",
    "\n",
    "# reject sample\n",
    "print(\"Rejected sample\")\n",
    "print(clf(sample[\"rejected\"])[0][\"score\"])\n",
    "\n",
    "# chosen sample\n",
    "print(\"Chosen sample\")\n",
    "print(clf(sample[\"chosen\"])[0][\"score\"])"
   ]
  },
  {
   "cell_type": "markdown",
   "metadata": {},
   "source": [
    "score dataset "
   ]
  },
  {
   "cell_type": "code",
   "execution_count": 8,
   "metadata": {},
   "outputs": [
    {
     "name": "stderr",
     "output_type": "stream",
     "text": [
      "Loading cached processed dataset at /home/ubuntu/.cache/huggingface/datasets/Anthropic___json/Anthropic--hh-rlhf-1cfce6f8a62eee84/0.0.0/e347ab1c932092252e717ff3f949105a4dd28b27e842dd53157d2f72e276c2e4/cache-8d0500446f50105c.arrow\n"
     ]
    },
    {
     "data": {
      "application/json": {
       "ascii": false,
       "bar_format": null,
       "colour": null,
       "elapsed": 0.005394935607910156,
       "initial": 0,
       "n": 0,
       "ncols": null,
       "nrows": null,
       "postfix": null,
       "prefix": "Map",
       "rate": null,
       "total": 160736,
       "unit": " examples",
       "unit_divisor": 1000,
       "unit_scale": false
      },
      "application/vnd.jupyter.widget-view+json": {
       "model_id": "decbc5e239434790a5fcf89d2d35bb24",
       "version_major": 2,
       "version_minor": 0
      },
      "text/plain": [
       "Map:   0%|          | 0/160736 [00:00<?, ? examples/s]"
      ]
     },
     "metadata": {},
     "output_type": "display_data"
    }
   ],
   "source": [
    "from functools import partial\n",
    "\n",
    "def score_data_with_rrhf_format(sample,clf):\n",
    "  \"\"\"The dataset is converted to a dictionary with the following structure for RRHF:\n",
    "    {\n",
    "        'prompt': str,\n",
    "        'responses': List[str],\n",
    "        'scores': List[float],\n",
    "    }\n",
    "    We are not using batching since the inputs are not equally long and sequential infernece is equally fast\n",
    "  \"\"\"\n",
    "  score_chosen = clf(sample[\"chosen\"],truncation=True)[0][\"score\"]\n",
    "  score_rejected = clf(sample[\"rejected\"],truncation=True)[0][\"score\"]\n",
    "  return {\n",
    "      'prompt': sample['prompt'],\n",
    "      \"responses\": [sample[\"chosen\"],sample[\"rejected\"]],\n",
    "      \"scores\": [score_chosen,score_rejected]\n",
    "  }\n",
    "  \n",
    "ds = dataset.filter(lambda s: len(s[\"chosen\"]) > 0 and len(s[\"rejected\"]) > 0).map(partial(score_data_with_rrhf_format,clf=clf),remove_columns=dataset.features.keys())\n",
    "\n",
    "ds.push_to_hub(\"philschmid/hh-rrhf-dahoas-gptj-rm\", \"train\")"
   ]
  },
  {
   "cell_type": "code",
   "execution_count": null,
   "metadata": {},
   "outputs": [],
   "source": []
  }
 ],
 "metadata": {
  "kernelspec": {
   "display_name": "pytorch",
   "language": "python",
   "name": "python3"
  },
  "language_info": {
   "codemirror_mode": {
    "name": "ipython",
    "version": 3
   },
   "file_extension": ".py",
   "mimetype": "text/x-python",
   "name": "python",
   "nbconvert_exporter": "python",
   "pygments_lexer": "ipython3",
   "version": "3.9.16"
  },
  "orig_nbformat": 4
 },
 "nbformat": 4,
 "nbformat_minor": 2
}
